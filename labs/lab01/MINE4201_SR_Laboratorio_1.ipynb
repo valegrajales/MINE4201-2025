{
  "nbformat": 4,
  "nbformat_minor": 0,
  "metadata": {
    "colab": {
      "name": "MINE4201_SR_Laboratorio_1.ipynb",
      "provenance": [],
      "collapsed_sections": []
    },
    "kernelspec": {
      "name": "python3",
      "display_name": "Python 3"
    }
  },
  "cells": [
    {
      "cell_type": "markdown",
      "metadata": {
        "id": "-ODlNBWj3QZx"
      },
      "source": [
        "# MINE4201- SR -  Laboratorio 1 \n",
        "# Exploración modelos KNN\n",
        "\n"
      ]
    },
    {
      "cell_type": "markdown",
      "metadata": {
        "id": "ed1-j-PSjcXX"
      },
      "source": [
        "Vamos a utilizar las siguientes librerias en el laboratorio\n"
      ]
    },
    {
      "cell_type": "code",
      "metadata": {
        "id": "g7SNsxhDkO6k"
      },
      "source": [
        "!pip install numpy\n",
        "!pip install scikit-surprise\n",
        "!pip install pandas"
      ],
      "execution_count": null,
      "outputs": []
    },
    {
      "cell_type": "code",
      "metadata": {
        "id": "Ue3y8dqL7osB"
      },
      "source": [
        "pwd"
      ],
      "execution_count": null,
      "outputs": []
    },
    {
      "cell_type": "code",
      "metadata": {
        "id": "MZy484IS5l04"
      },
      "source": [
        "import os\n",
        "import numpy as np\n",
        "import pandas as pd\n",
        "from surprise import Reader\n",
        "from surprise import Dataset\n",
        "from surprise.model_selection import train_test_split\n",
        "from surprise import KNNBasic\n",
        "from surprise import accuracy\n",
        "import random\n",
        "\n",
        "#Para garantizar reproducibilidad en resultados\n",
        "seed = 10\n",
        "random.seed(seed)\n",
        "np.random.seed(seed)\n"
      ],
      "execution_count": null,
      "outputs": []
    },
    {
      "cell_type": "markdown",
      "metadata": {
        "id": "VApWKvPdWmtm"
      },
      "source": [
        "## Suba al servidor los archivos u.data y u.item que se encuentran en el dataset descargado, en la pestaña files"
      ]
    },
    {
      "cell_type": "code",
      "metadata": {
        "id": "-ayxnwj06r4C"
      },
      "source": [
        "if not (os.path.exists('/content/u.data') and os.path.exists('/content/u.item')):\n",
        "  raise ValueError('Los archivos u.data e u.item no fueron encontrados en el path')\n",
        "else:\n",
        "  print(\"Los archivos han sido cargados\")"
      ],
      "execution_count": null,
      "outputs": []
    },
    {
      "cell_type": "code",
      "metadata": {
        "id": "2fY0BV4Y7Cfn"
      },
      "source": [
        "ratings=pd.read_csv('/content/u.data', sep = '\\t', names = [ 'user_id', 'item_id', 'rating', 'timestamp' ] )"
      ],
      "execution_count": null,
      "outputs": []
    },
    {
      "cell_type": "code",
      "metadata": {
        "id": "4xh6HByEXjLN"
      },
      "source": [
        "items=pd.read_csv('/content/u.item', sep = '\\|', names = ['movie id' ,'movie title','release date','video release date','IMDb URL ','unknown',\n",
        "                                                          'Action','Adventure','Animation','Children','Comedy','Crime','Documentary','Drama',\n",
        "                                                          'Fantasy','Film-Noir','Horror','Musical','Mystery','Romance','Sci-Fi','Thriller','War','Western'], encoding='latin-1' )"
      ],
      "execution_count": null,
      "outputs": []
    },
    {
      "cell_type": "markdown",
      "metadata": {
        "id": "hyGTV0lPiGZJ"
      },
      "source": [
        "Verifique que los ratings y los items hayan sido cargados correctamente\n",
        "\n",
        "\n",
        "\n"
      ]
    },
    {
      "cell_type": "code",
      "metadata": {
        "id": "JF-3Z1T4iAaI"
      },
      "source": [
        "#ratings.rating=ratings.rating.astype('category')\n",
        "ratings.head()"
      ],
      "execution_count": null,
      "outputs": []
    },
    {
      "cell_type": "code",
      "metadata": {
        "id": "ztMyJLZjRIiU"
      },
      "source": [
        "items.head()"
      ],
      "execution_count": null,
      "outputs": []
    },
    {
      "cell_type": "markdown",
      "metadata": {
        "id": "lkhrr5u0lVl_"
      },
      "source": [
        "## Visualice la distribución de ratings, ¿Qué puede decir al respecto?"
      ]
    },
    {
      "cell_type": "code",
      "metadata": {
        "id": "CrVPRhE_ZkvM"
      },
      "source": [
        "ratings.rating.hist()"
      ],
      "execution_count": null,
      "outputs": []
    },
    {
      "cell_type": "code",
      "metadata": {
        "id": "t6t2yujWZ69b"
      },
      "source": [
        ""
      ],
      "execution_count": null,
      "outputs": []
    },
    {
      "cell_type": "markdown",
      "metadata": {
        "id": "Rvyd2GmRnegf"
      },
      "source": [
        "## En la siguiente celda se esta calculando el número de ratings por usuario y  el promedio de sus calificaciones, el dataframe esta ordenado por el número de calificaciones"
      ]
    },
    {
      "cell_type": "code",
      "metadata": {
        "id": "JapJ5D8Sg8ZZ"
      },
      "source": [
        "ratings.groupby('user_id')['rating'].agg({'count','mean'}).sort_values(by='count', ascending=False)"
      ],
      "execution_count": null,
      "outputs": []
    },
    {
      "cell_type": "code",
      "source": [
        "ratings.groupby('user_id')['rating'].mean().reset_index()"
      ],
      "metadata": {
        "id": "nyaK03X_gD5V"
      },
      "execution_count": null,
      "outputs": []
    },
    {
      "cell_type": "code",
      "metadata": {
        "id": "D0CPkvI-otbP"
      },
      "source": [
        ""
      ],
      "execution_count": null,
      "outputs": []
    },
    {
      "cell_type": "markdown",
      "metadata": {
        "id": "IOH5jtpUokKn"
      },
      "source": [
        "##Utilice las siguientes celdas para encontrar respuesta a las siguientes preguntas\n",
        "\n",
        "¿Cómo es la distribución del número de ratings por usuario?\n",
        "\n",
        "¿Cómo es la distribución del promedio de calificación por usuario?\n"
      ]
    },
    {
      "cell_type": "code",
      "metadata": {
        "id": "9PA43szmpTiQ"
      },
      "source": [
        ""
      ],
      "execution_count": null,
      "outputs": []
    },
    {
      "cell_type": "code",
      "metadata": {
        "id": "O2UkypiRpTLA"
      },
      "source": [
        ""
      ],
      "execution_count": null,
      "outputs": []
    },
    {
      "cell_type": "markdown",
      "metadata": {
        "id": "Sb2m2qv9sqZt"
      },
      "source": [
        "##En la siguiente celda se esta calculando el número de ratings por items, el promedio de sus calificaciones y la varianza de sus calificaciones. "
      ]
    },
    {
      "cell_type": "code",
      "metadata": {
        "id": "xXZw4Iy2aARs"
      },
      "source": [
        "ratings.groupby('item_id')['rating'].agg({'count','mean','var'}).join(items['movie title'], how='left')"
      ],
      "execution_count": null,
      "outputs": []
    },
    {
      "cell_type": "markdown",
      "metadata": {
        "id": "mLsd_rohxMhc"
      },
      "source": [
        "##Utilice las siguientes celdas para encontrar la respuesta a las siguientes preguntas\n",
        "\n",
        "¿Cuáles son los items con más calificaciones?  \n",
        "\n",
        "¿Se puede observar el fenomeno de cola larga en este dataset?\n",
        "\n",
        "\n"
      ]
    },
    {
      "cell_type": "code",
      "metadata": {
        "id": "pCobQat1gQip"
      },
      "source": [
        "mt=ratings.groupby('item_id')['rating'].agg({'count','mean','var'}).join(items['movie title'], how='left')"
      ],
      "execution_count": null,
      "outputs": []
    },
    {
      "cell_type": "code",
      "metadata": {
        "id": "owf_C2Ob59WJ"
      },
      "source": [
        "mt"
      ],
      "execution_count": null,
      "outputs": []
    },
    {
      "cell_type": "code",
      "metadata": {
        "id": "C_O-o3Zb8-Dx"
      },
      "source": [
        ""
      ],
      "execution_count": null,
      "outputs": []
    },
    {
      "cell_type": "markdown",
      "metadata": {
        "id": "kG9eggK7cQIc"
      },
      "source": [
        "## Creación de listas de recomendación no personalizadas\n",
        "\n",
        "Genere inicialmente una lista de recomendación de tamaño 10 no personalizada con los items con mejor promedio, en teoría estos son los mejores items del dataset.\n",
        "\n",
        "¿Qué problemas tiene generar una lista no personalizada solamente con el promedio?\n",
        "\n",
        "¿Es posible generar una mejor lista de recomendación teniendo en cuenta que tanto el número de ratings del item como su promedio?\n",
        "\n",
        "Ver: \n",
        "\n",
        "http://www.evanmiller.org/how-not-to-sort-by-average-rating.html\n",
        "\n",
        "https://es.wikipedia.org/wiki/Intervalo_de_confianza\n"
      ]
    },
    {
      "cell_type": "code",
      "metadata": {
        "id": "4XMG1LkAdXAv"
      },
      "source": [
        ""
      ],
      "execution_count": null,
      "outputs": []
    },
    {
      "cell_type": "code",
      "metadata": {
        "id": "XWiogp7udWwI"
      },
      "source": [
        ""
      ],
      "execution_count": null,
      "outputs": []
    },
    {
      "cell_type": "markdown",
      "metadata": {
        "id": "c7BO4guxySk3"
      },
      "source": [
        "#Creación del dataset de entrenamiento y prueba\n",
        "\n",
        "El próximo paso es cargar los datos a surprise, para esto vamos a inicializar un modelo de datos de surprise con la información de los ratings cargados en el dataframe"
      ]
    },
    {
      "cell_type": "markdown",
      "metadata": {
        "id": "1PE9yuetbxnQ"
      },
      "source": [
        ""
      ]
    },
    {
      "cell_type": "code",
      "metadata": {
        "id": "xzF3iMfVzWiz"
      },
      "source": [
        "reader = Reader( rating_scale = ( 1, 5 ) )\n",
        "#Se crea el dataset a partir del dataframe\n",
        "surprise_dataset = Dataset.load_from_df( ratings[ [ 'user_id', 'item_id', 'rating' ] ], reader )"
      ],
      "execution_count": null,
      "outputs": []
    },
    {
      "cell_type": "markdown",
      "metadata": {
        "id": "aBSHMZu-IaDE"
      },
      "source": [
        "Se divide el dataset en entrenamiento y test. El dataset de entrenamiento será presentado al algoritmo de recomendación y el dataset de test nos servirá para medir qué tan buenas fueron las predicciones del sistema de recomendación. El conjunto de test generado es una lista con los ratings de prueba"
      ]
    },
    {
      "cell_type": "code",
      "metadata": {
        "id": "wVCXEv2zHDN7"
      },
      "source": [
        "train_set, test_set=  train_test_split(surprise_dataset, test_size=.2)"
      ],
      "execution_count": null,
      "outputs": []
    },
    {
      "cell_type": "code",
      "metadata": {
        "id": "z3NBak6JZWgP"
      },
      "source": [
        "train_set.n_ratings"
      ],
      "execution_count": null,
      "outputs": []
    },
    {
      "cell_type": "code",
      "metadata": {
        "id": "bUyMSnUEdOOT"
      },
      "source": [
        "len(test_set)"
      ],
      "execution_count": null,
      "outputs": []
    },
    {
      "cell_type": "code",
      "metadata": {
        "id": "HDamSIDVZabW"
      },
      "source": [
        "#Este es el primer elemento del dataset de prueba (usuario 154, pelicula 302, rating 4)\n",
        "test_set[0]"
      ],
      "execution_count": null,
      "outputs": []
    },
    {
      "cell_type": "markdown",
      "metadata": {
        "id": "kOd-SiVhLd_x"
      },
      "source": [
        "## Creación de modelo de filtrado colaborativo basado en similitud con usuarios o items cercanos\n",
        "\n",
        "Surprise cuenta con la implementación de los modelos colaborativos dentro de la clase [KNNBasic](https://surprise.readthedocs.io/en/stable/knn_inspired.html) \n",
        "\n",
        "El modelo recibe los siguientes parámetros: \n",
        "\n",
        "\n",
        "*   k: El máximo número de vecinos con el que se hará la extrapolación\n",
        "*   min_k : El mínimo número de vecinos con el que se extrapolará un rating\n",
        "*   sim_options : Opciones de similitud pasadas como un diccionario de python, aqui se le configura al modelo el tipo de similitud a usar para encontrar los vecinos y si la extrapolación debe hacerse usando usuarios o items similares. Revise el formato y similitudes disponibles en surprise en [este link](https://surprise.readthedocs.io/en/stable/prediction_algorithms.html#similarity-measure-configuration)\n",
        "\n",
        "\n",
        "\n"
      ]
    },
    {
      "cell_type": "code",
      "metadata": {
        "id": "s5A8reiHLdXy"
      },
      "source": [
        "# se crea un modelo knnbasic item-item con similitud coseno \n",
        "sim_options = {'name': 'cosine',\n",
        "               'user_based': False  # calcule similitud item-item\n",
        "               }\n",
        "algo = KNNBasic(k=20, min_k=2, sim_options=sim_options)"
      ],
      "execution_count": null,
      "outputs": []
    },
    {
      "cell_type": "code",
      "metadata": {
        "id": "_G8gUHeoUzR-"
      },
      "source": [
        "#Se le pasa la matriz de utilidad al algoritmo \n",
        "algo.fit(trainset=train_set)"
      ],
      "execution_count": null,
      "outputs": []
    },
    {
      "cell_type": "markdown",
      "metadata": {
        "id": "4B1_I0LqY6rd"
      },
      "source": [
        "Una vez cargados los ratings al modelo, se puede realizar una predicción para un usuario, en este caso vamos a calcular la predicción que el modelo esta realizando para la primera entrada del dataset de test la predicción para el usuario con id 154 y el item con id 302, que corresponde a la película L.A. Confidential (1997)\n",
        "\n",
        "---\n",
        "\n"
      ]
    },
    {
      "cell_type": "code",
      "metadata": {
        "id": "AdwrR8gVFQuD"
      },
      "source": [
        "#Verifique la propiedad est de la predicción\n",
        "algo.predict(154,302)"
      ],
      "execution_count": null,
      "outputs": []
    },
    {
      "cell_type": "code",
      "metadata": {
        "id": "dzK37VDQIRIT"
      },
      "source": [
        "items[items['movie id']==302]"
      ],
      "execution_count": null,
      "outputs": []
    },
    {
      "cell_type": "markdown",
      "metadata": {
        "id": "75RWLbA2a2BE"
      },
      "source": [
        "Como podemos ver, la predicción (4.24) del modelo no esta alejada de lo que realmente opinó el usuario  (4.0)\n",
        "\n",
        "Para medir la calidad de la predicción para todos los usuarios e items del dataset de prueba, vamos a comparar lo que dice el modelo de predicción vs lo que dice el conjunto de prueba, para esto vamos a usar la métrica [RMSE](https://surprise.readthedocs.io/en/stable/accuracy.html#surprise.accuracy.rmse)\n",
        "\n",
        "Inicialmente calculamos la predicción para todos los elementos del conjunto de test"
      ]
    },
    {
      "cell_type": "code",
      "metadata": {
        "id": "xOl2ObNSIk8T"
      },
      "source": [
        "test_predictions=algo.test(test_set)"
      ],
      "execution_count": null,
      "outputs": []
    },
    {
      "cell_type": "code",
      "metadata": {
        "id": "kRlvK_f2ZN7t"
      },
      "source": [
        "#5 primeras predicciones\n",
        "test_predictions[0:5]"
      ],
      "execution_count": null,
      "outputs": []
    },
    {
      "cell_type": "markdown",
      "metadata": {
        "id": "yqgYbxzwe59D"
      },
      "source": [
        "Ahora se mide el RMSE de las predicciones vs el valor del dataset"
      ]
    },
    {
      "cell_type": "code",
      "metadata": {
        "id": "RDK_8jlUeyVL"
      },
      "source": [
        "# En promedio, el sistema encuentra ratings que estan una estrella por encima o por debajo del rating del usuario\n",
        "accuracy.rmse( test_predictions, verbose = True )"
      ],
      "execution_count": null,
      "outputs": []
    },
    {
      "cell_type": "markdown",
      "metadata": {
        "id": "Ge8msMcPgFwy"
      },
      "source": [
        "##Utilice las siguientes celdas para encontrar la respuesta a las siguientes preguntas\n",
        "\n",
        "¿Cuál es el RMSE de un modelo usuario-usuario con los mismos parámetros de similitud?\n",
        "\n",
        "¿Cuál es el efecto de cambiar el número de vecinos en la calidad del modelo usuario-usuario ?"
      ]
    },
    {
      "cell_type": "code",
      "metadata": {
        "id": "0Eb-sHBnfw8b"
      },
      "source": [
        ""
      ],
      "execution_count": null,
      "outputs": []
    },
    {
      "cell_type": "code",
      "metadata": {
        "id": "RgE2Oib_gYuK"
      },
      "source": [
        ""
      ],
      "execution_count": null,
      "outputs": []
    },
    {
      "cell_type": "markdown",
      "metadata": {
        "id": "ZqMr2MlbkJch"
      },
      "source": [
        "##Generando listas de predicciones para los usuarios\n",
        "\n",
        "Retomemos nuestro modelo inicial y ajustémolo con todos los ratings disponibles\n",
        "\n",
        "Para generar una lista de recomendación se debe crear un dataset de \"test\" con las entradas faltantes de la matriz utilidad para que el modelo cree las predicciones (terminar de llenar la matriz de utilidad)\n",
        "\n"
      ]
    },
    {
      "cell_type": "code",
      "metadata": {
        "id": "y0ZYsiPXktjg"
      },
      "source": [
        "#Se crea el dataset para modelo \n",
        "rating_data=surprise_dataset.build_full_trainset()\n",
        "# Se crea dataset de \"prueba\" con las entradas faltantes para generar las predicciones\n",
        "test=rating_data.build_anti_testset()\n",
        "\n",
        "# se crea el mismo modelo que el del ejemplo\n",
        "sim_options = {'name': 'cosine',\n",
        "               'user_based': False  # calcule similitud item-item\n",
        "               }\n",
        "algo = KNNBasic(k=20, min_k=2, sim_options=sim_options)\n",
        "algo.fit(rating_data)\n",
        "predictions=algo.test(test)"
      ],
      "execution_count": null,
      "outputs": []
    },
    {
      "cell_type": "code",
      "metadata": {
        "id": "eH2O_3iFsR6e"
      },
      "source": [
        "#10 primeras predicciones\n",
        "predictions[0:10]"
      ],
      "execution_count": null,
      "outputs": []
    },
    {
      "cell_type": "code",
      "metadata": {
        "id": "Bd8lOnRXpPBm"
      },
      "source": [
        "#Predicciones para usuario 196\n",
        "user_predictions=list(filter(lambda x: x[0]==196,predictions))"
      ],
      "execution_count": null,
      "outputs": []
    },
    {
      "cell_type": "code",
      "metadata": {
        "id": "NIQAuEo4rHA2"
      },
      "source": [
        "#Ordenamos de mayor a menor estimación de relevancia\n",
        "user_predictions.sort(key=lambda x : x.est, reverse=True)"
      ],
      "execution_count": null,
      "outputs": []
    },
    {
      "cell_type": "code",
      "metadata": {
        "id": "GmcwrOJ-sy9G"
      },
      "source": [
        "#tomamos las 10 primeras predicciones\n",
        "user_predictions=user_predictions[0:10]"
      ],
      "execution_count": null,
      "outputs": []
    },
    {
      "cell_type": "code",
      "metadata": {
        "id": "FFaVRp3dtBZF"
      },
      "source": [
        "user_predictions"
      ],
      "execution_count": null,
      "outputs": []
    },
    {
      "cell_type": "code",
      "metadata": {
        "id": "7kRPNGHEtcux"
      },
      "source": [
        "#Se convierte a dataframe\n",
        "labels = ['movie id', 'estimation']\n",
        "df_predictions = pd.DataFrame.from_records(list(map(lambda x: (x.iid, x.est) , user_predictions)), columns=labels)"
      ],
      "execution_count": null,
      "outputs": []
    },
    {
      "cell_type": "code",
      "metadata": {
        "id": "YvWQuyJGuaGV"
      },
      "source": [
        "#Lo unimos con el dataframe de películas\n",
        "df_predictions.merge(items[['movie id','movie title','IMDb URL ']], how='left', on='movie id')"
      ],
      "execution_count": null,
      "outputs": []
    },
    {
      "cell_type": "markdown",
      "metadata": {
        "id": "4oAheKoNvTU0"
      },
      "source": [
        "## Utilice las siguientes celdas para encontrar la respuesta a las siguientes preguntas\n",
        "\n",
        "Cree al menos 2 usuarios (al primero asígnele el id 944) y cree para cada usuario ratings nuevos (puede hacerlo haciendo a traves del [dataframe](https://pandas.pydata.org/pandas-docs/stable/reference/api/pandas.DataFrame.append.html), o añadiendo líneas al archivo). Asigne a un usuario preferencias de un segmento popular (mainstream) y a otro preferencias de un nicho.\n",
        "\n",
        "¿Que tan bien cree que el sistema esta respondiendo a los gustos del usuario?\n",
        "\n",
        "¿Que tan bien cree que el sistema esta respondiendo al objetivo de buscar items para el usuario dentro de la cola larga?"
      ]
    },
    {
      "cell_type": "code",
      "metadata": {
        "id": "mQ4vk_19unXV"
      },
      "source": [
        "ratings['user_id'].max()+1"
      ],
      "execution_count": null,
      "outputs": []
    },
    {
      "cell_type": "code",
      "metadata": {
        "id": "EcoiOZIavjLl"
      },
      "source": [
        ""
      ],
      "execution_count": null,
      "outputs": []
    }
  ]
}